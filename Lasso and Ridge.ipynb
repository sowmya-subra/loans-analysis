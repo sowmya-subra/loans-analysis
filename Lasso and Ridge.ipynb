{
 "cells": [
  {
   "cell_type": "code",
   "execution_count": 45,
   "id": "7e1f90fa",
   "metadata": {},
   "outputs": [],
   "source": [
    "import pandas as pd\n",
    "from sklearn import linear_model\n",
    "import numpy as np\n",
    "from sklearn.model_selection import train_test_split\n",
    "import matplotlib.pyplot as plt\n",
    "from sklearn.preprocessing import PolynomialFeatures"
   ]
  },
  {
   "cell_type": "code",
   "execution_count": 46,
   "id": "209a060e",
   "metadata": {},
   "outputs": [],
   "source": [
    "df=pd.read_csv(\"https://raw.githubusercontent.com/mrbarron3/stat451/main/loan_data.csv\")\n",
    "df=pd.read_csv(\"https://raw.githubusercontent.com/mrbarron3/stat451/main/loan_data.csv\")\n",
    "df=df.join(pd.get_dummies(df.purpose))\n",
    "df=df.drop(\"purpose\", axis=1)"
   ]
  },
  {
   "cell_type": "code",
   "execution_count": 47,
   "id": "8fdb3a48",
   "metadata": {},
   "outputs": [
    {
     "name": "stdout",
     "output_type": "stream",
     "text": [
      "      credit.policy  int.rate  installment  log.annual.inc    dti  fico  \\\n",
      "0                 1      0.12       829.10           11.35  19.48   737   \n",
      "1                 1      0.11       228.22           11.08  14.29   707   \n",
      "2                 1      0.14       366.86           10.37  11.63   682   \n",
      "3                 1      0.10       162.34           11.35   8.10   712   \n",
      "4                 1      0.14       102.92           11.30  14.97   667   \n",
      "...             ...       ...          ...             ...    ...   ...   \n",
      "9573              0      0.15       344.76           12.18  10.39   672   \n",
      "9574              0      0.13       257.70           11.14   0.21   722   \n",
      "9575              0      0.11        97.81           10.60  13.09   687   \n",
      "9576              0      0.16       351.58           10.82  19.18   692   \n",
      "9577              0      0.14       853.43           11.26  16.28   732   \n",
      "\n",
      "      days.with.cr.line  revol.bal  revol.util  inq.last.6mths  delinq.2yrs  \\\n",
      "0               5639.96      28854        52.1               0            0   \n",
      "1               2760.00      33623        76.7               0            0   \n",
      "2               4710.00       3511        25.6               1            0   \n",
      "3               2699.96      33667        73.2               1            0   \n",
      "4               4066.00       4740        39.5               0            1   \n",
      "...                 ...        ...         ...             ...          ...   \n",
      "9573           10474.00     215372        82.1               2            0   \n",
      "9574            4380.00        184         1.1               5            0   \n",
      "9575            3450.04      10036        82.9               8            0   \n",
      "9576            1800.00          0         3.2               5            0   \n",
      "9577            4740.00      37879        57.0               6            0   \n",
      "\n",
      "      pub.rec  all_other  credit_card  debt_consolidation  educational  \\\n",
      "0           0          0            0                   1            0   \n",
      "1           0          0            1                   0            0   \n",
      "2           0          0            0                   1            0   \n",
      "3           0          0            0                   1            0   \n",
      "4           0          0            1                   0            0   \n",
      "...       ...        ...          ...                 ...          ...   \n",
      "9573        0          1            0                   0            0   \n",
      "9574        0          1            0                   0            0   \n",
      "9575        0          0            0                   1            0   \n",
      "9576        0          0            0                   0            0   \n",
      "9577        0          0            0                   1            0   \n",
      "\n",
      "      home_improvement  major_purchase  small_business  \n",
      "0                    0               0               0  \n",
      "1                    0               0               0  \n",
      "2                    0               0               0  \n",
      "3                    0               0               0  \n",
      "4                    0               0               0  \n",
      "...                ...             ...             ...  \n",
      "9573                 0               0               0  \n",
      "9574                 0               0               0  \n",
      "9575                 0               0               0  \n",
      "9576                 1               0               0  \n",
      "9577                 0               0               0  \n",
      "\n",
      "[9578 rows x 19 columns]\n"
     ]
    }
   ],
   "source": [
    "X = df.drop('not.fully.paid', axis=1)  \n",
    "y = df['not.fully.paid']  \n",
    "\n",
    "\n",
    "X_train, X_test, y_train, y_test = train_test_split(X, y, test_size=0.5, random_state=0)"
   ]
  },
  {
   "cell_type": "code",
   "execution_count": 61,
   "id": "daf29403",
   "metadata": {},
   "outputs": [
    {
     "name": "stdout",
     "output_type": "stream",
     "text": [
      "   model  MSE_train  MSE_test  .intercept_ .coef_\n",
      "0  Lasso       0.13      0.13         0.76  [0.0]\n"
     ]
    },
    {
     "data": {
      "image/png": "[encoded data removed]",
      "text/plain": [
       "<Figure size 432x288 with 1 Axes>"
      ]
     },
     "metadata": {
      "needs_background": "light"
     },
     "output_type": "display_data"
    }
   ],
   "source": [
    "lasso_reg = linear_model.Lasso()\n",
    "\n",
    "lasso_reg.fit(X_train, y_train)\n",
    "\n",
    "# Make predictions on the scaled test data\n",
    "y_pred = lasso_reg.predict(X_test)\n",
    "\n",
    "# Evaluate the model\n",
    "MSE_train = (1/y_train.size) * np.sum((y_train - lasso_reg.predict(X_train))**2)\n",
    "MSE_test = (1/y_test.size)  * np.sum((y_test - lasso_reg.predict(X_test))**2)\n",
    "\n",
    "df = pd.DataFrame(columns=['model', 'MSE_train', 'MSE_test', '.intercept_', '.coef_'])\n",
    "new_row = pd.DataFrame({'model': \"Lasso\", 'MSE_train': MSE_train,\n",
    "                                     'MSE_test': MSE_test, '.intercept_': lasso_reg.intercept_,\n",
    "                                     '.coef_': [np.round(lasso_reg.coef_[1:2], 2)]})\n",
    "df = pd.concat([df, new_row])\n",
    "print(df)\n",
    "\n",
    "# Plot the coefficients\n",
    "coefficients = pd.Series(lasso_reg.coef_, index=X.columns)\n",
    "coefficients.plot(kind='bar')\n",
    "plt.title('Lasso Regression Coefficients')\n",
    "plt.show()"
   ]
  },
  {
   "cell_type": "code",
   "execution_count": 65,
   "id": "1d1e37f6",
   "metadata": {},
   "outputs": [
    {
     "name": "stdout",
     "output_type": "stream",
     "text": [
      "              model  MSE_train  MSE_test  .intercept_ .coef_\n",
      "0  Ridge Regression       0.13      0.13         1.65  [0.0]\n"
     ]
    }
   ],
   "source": [
    "ridge_reg = linear_model.Ridge()\n",
    "\n",
    "ridge_reg.fit(X_train, y_train)\n",
    "\n",
    "y_pred = ridge_reg.predict(X_test)\n",
    "\n",
    "df = pd.DataFrame(columns=['model', 'MSE_train', 'MSE_test', '.intercept_', '.coef_'])\n",
    "new_row = pd.DataFrame({'model': \"Ridge Regression\", 'MSE_train': MSE_train,\n",
    "                                     'MSE_test': MSE_test, '.intercept_': ridge_reg.intercept_,\n",
    "                                     '.coef_': [np.round(ridge_reg.coef_[1:2], 2)]})\n",
    "df = pd.concat([df, new_row])\n",
    "print(df)"
   ]
  },
  {
   "cell_type": "code",
   "execution_count": null,
   "id": "a96529af",
   "metadata": {},
   "outputs": [],
   "source": []
  }
 ],
 "metadata": {
  "kernelspec": {
   "display_name": "Python 3",
   "language": "python",
   "name": "python3"
  },
  "language_info": {
   "codemirror_mode": {
    "name": "ipython",
    "version": 3
   },
   "file_extension": ".py",
   "mimetype": "text/x-python",
   "name": "python",
   "nbconvert_exporter": "python",
   "pygments_lexer": "ipython3",
   "version": "3.8.8"
  }
 },
 "nbformat": 4,
 "nbformat_minor": 5
}
