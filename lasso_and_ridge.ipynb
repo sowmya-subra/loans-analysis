{
 "cells": [
  {
   "cell_type": "code",
   "execution_count": 1,
   "id": "9b4e103a",
   "metadata": {},
   "outputs": [],
   "source": [
    "import pandas as pd\n",
    "from sklearn import linear_model\n",
    "import numpy as np\n",
    "from sklearn.model_selection import train_test_split\n",
    "import matplotlib.pyplot as plt\n",
    "from sklearn.preprocessing import PolynomialFeatures"
   ]
  },
  {
   "cell_type": "code",
   "execution_count": 28,
   "id": "8fa03713",
   "metadata": {},
   "outputs": [],
   "source": [
    "df=pd.read_csv(\"https://raw.githubusercontent.com/mrbarron3/stat451/main/loan_data.csv\")\n",
    "df=pd.read_csv(\"https://raw.githubusercontent.com/mrbarron3/stat451/main/loan_data.csv\")\n",
    "df=df.join(pd.get_dummies(df.purpose))\n",
    "df=df.drop(\"purpose\", axis=1)\n",
    "\n",
    "X = df.drop('not.fully.paid', axis=1)\n",
    "y = df['not.fully.paid']  \n",
    "\n",
    "# X_train, X_test, y_train, y_test = train_test_split(X, y, test_size=0.5, random_state=0)"
   ]
  },
  {
   "cell_type": "code",
   "execution_count": 38,
   "id": "8782dab1",
   "metadata": {},
   "outputs": [
    {
     "name": "stdout",
     "output_type": "stream",
     "text": [
      "D=0:\n",
      "                  model MSE_train MSE_test .intercept_ .coef_\n",
      "0    LinearRegression()      0.14     0.13        0.16     []\n",
      "0  Lasso(max_iter=2000)      0.14     0.13        0.16     []\n",
      "0               Ridge()      0.14     0.13        0.16     []\n"
     ]
    },
    {
     "name": "stderr",
     "output_type": "stream",
     "text": [
      "/var/folders/mx/0390mkx11_7791twtj3vsx800000gn/T/ipykernel_45913/3670902653.py:44: UserWarning: Attempting to set identical left == right == 1.0 results in singular transformations; automatically expanding.\n",
      "  plt.xlim(low, high)  # Adjust the x-axis limits based on your data range\n"
     ]
    },
    {
     "data": {
      "image/png": "[encoded data removed]",
      "text/plain": [
       "<Figure size 432x288 with 1 Axes>"
      ]
     },
     "metadata": {
      "needs_background": "light"
     },
     "output_type": "display_data"
    },
    {
     "name": "stdout",
     "output_type": "stream",
     "text": [
      "D=1:\n",
      "                  model MSE_train MSE_test .intercept_ .coef_\n",
      "0    LinearRegression()      0.14     0.13        0.16  [0.0]\n",
      "0  Lasso(max_iter=2000)      0.14     0.13        0.16  [0.0]\n",
      "0               Ridge()      0.14     0.13        0.16  [0.0]\n"
     ]
    },
    {
     "name": "stderr",
     "output_type": "stream",
     "text": [
      "/var/folders/mx/0390mkx11_7791twtj3vsx800000gn/T/ipykernel_45913/3670902653.py:44: UserWarning: Attempting to set identical left == right == 1.0 results in singular transformations; automatically expanding.\n",
      "  plt.xlim(low, high)  # Adjust the x-axis limits based on your data range\n"
     ]
    },
    {
     "data": {
      "image/png": "[encoded data removed]",
      "text/plain": [
       "<Figure size 432x288 with 1 Axes>"
      ]
     },
     "metadata": {
      "needs_background": "light"
     },
     "output_type": "display_data"
    },
    {
     "name": "stdout",
     "output_type": "stream",
     "text": [
      "D=2:\n",
      "                  model MSE_train MSE_test .intercept_  \\\n",
      "0    LinearRegression()      0.14     0.13        0.16   \n",
      "0  Lasso(max_iter=2000)      0.14     0.13        0.16   \n",
      "0               Ridge()      0.14     0.13        0.16   \n",
      "\n",
      "                      .coef_  \n",
      "0  [0.0, 0.0, 0.0, 0.0, 0.0]  \n",
      "0  [0.0, 0.0, 0.0, 0.0, 0.0]  \n",
      "0  [0.0, 0.0, 0.0, 0.0, 0.0]  \n"
     ]
    },
    {
     "ename": "ValueError",
     "evalue": "X has 3 features, but LinearRegression is expecting 6 features as input.",
     "output_type": "error",
     "traceback": [
      "\u001b[0;31m---------------------------------------------------------------------------\u001b[0m",
      "\u001b[0;31mValueError\u001b[0m                                Traceback (most recent call last)",
      "Input \u001b[0;32mIn [38]\u001b[0m, in \u001b[0;36m<cell line: 7>\u001b[0;34m()\u001b[0m\n\u001b[1;32m     36\u001b[0m \u001b[38;5;28;01mfor\u001b[39;00m i \u001b[38;5;129;01min\u001b[39;00m \u001b[38;5;28mrange\u001b[39m(\u001b[38;5;28mlen\u001b[39m(models)):\n\u001b[1;32m     37\u001b[0m     model \u001b[38;5;241m=\u001b[39m models[i]\n\u001b[0;32m---> 38\u001b[0m     y_plot \u001b[38;5;241m=\u001b[39m \u001b[43mmodel\u001b[49m\u001b[38;5;241;43m.\u001b[39;49m\u001b[43mpredict\u001b[49m\u001b[43m(\u001b[49m\u001b[43mX_plot\u001b[49m\u001b[43m)\u001b[49m\n\u001b[1;32m     39\u001b[0m     plt\u001b[38;5;241m.\u001b[39mplot(x_plot, y_plot, linestyle\u001b[38;5;241m=\u001b[39mmodel_linestyles[i], color\u001b[38;5;241m=\u001b[39mmodel_colors[i], label\u001b[38;5;241m=\u001b[39m\u001b[38;5;28mstr\u001b[39m(model))\n\u001b[1;32m     41\u001b[0m plt\u001b[38;5;241m.\u001b[39mplot(X[y_train\u001b[38;5;241m.\u001b[39mindex], y_train, linestyle\u001b[38;5;241m=\u001b[39m\u001b[38;5;124m'\u001b[39m\u001b[38;5;124mNone\u001b[39m\u001b[38;5;124m'\u001b[39m, marker\u001b[38;5;241m=\u001b[39m\u001b[38;5;124m'\u001b[39m\u001b[38;5;124m.\u001b[39m\u001b[38;5;124m'\u001b[39m, color\u001b[38;5;241m=\u001b[39m\u001b[38;5;124m'\u001b[39m\u001b[38;5;124mblack\u001b[39m\u001b[38;5;124m'\u001b[39m, label\u001b[38;5;241m=\u001b[39m\u001b[38;5;124m'\u001b[39m\u001b[38;5;124mtrain\u001b[39m\u001b[38;5;124m'\u001b[39m)\n",
      "File \u001b[0;32m~/opt/anaconda3/lib/python3.9/site-packages/sklearn/linear_model/_base.py:386\u001b[0m, in \u001b[0;36mLinearModel.predict\u001b[0;34m(self, X)\u001b[0m\n\u001b[1;32m    372\u001b[0m \u001b[38;5;28;01mdef\u001b[39;00m \u001b[38;5;21mpredict\u001b[39m(\u001b[38;5;28mself\u001b[39m, X):\n\u001b[1;32m    373\u001b[0m     \u001b[38;5;124;03m\"\"\"\u001b[39;00m\n\u001b[1;32m    374\u001b[0m \u001b[38;5;124;03m    Predict using the linear model.\u001b[39;00m\n\u001b[1;32m    375\u001b[0m \n\u001b[0;32m   (...)\u001b[0m\n\u001b[1;32m    384\u001b[0m \u001b[38;5;124;03m        Returns predicted values.\u001b[39;00m\n\u001b[1;32m    385\u001b[0m \u001b[38;5;124;03m    \"\"\"\u001b[39;00m\n\u001b[0;32m--> 386\u001b[0m     \u001b[38;5;28;01mreturn\u001b[39;00m \u001b[38;5;28;43mself\u001b[39;49m\u001b[38;5;241;43m.\u001b[39;49m\u001b[43m_decision_function\u001b[49m\u001b[43m(\u001b[49m\u001b[43mX\u001b[49m\u001b[43m)\u001b[49m\n",
      "File \u001b[0;32m~/opt/anaconda3/lib/python3.9/site-packages/sklearn/linear_model/_base.py:369\u001b[0m, in \u001b[0;36mLinearModel._decision_function\u001b[0;34m(self, X)\u001b[0m\n\u001b[1;32m    366\u001b[0m \u001b[38;5;28;01mdef\u001b[39;00m \u001b[38;5;21m_decision_function\u001b[39m(\u001b[38;5;28mself\u001b[39m, X):\n\u001b[1;32m    367\u001b[0m     check_is_fitted(\u001b[38;5;28mself\u001b[39m)\n\u001b[0;32m--> 369\u001b[0m     X \u001b[38;5;241m=\u001b[39m \u001b[38;5;28;43mself\u001b[39;49m\u001b[38;5;241;43m.\u001b[39;49m\u001b[43m_validate_data\u001b[49m\u001b[43m(\u001b[49m\u001b[43mX\u001b[49m\u001b[43m,\u001b[49m\u001b[43m \u001b[49m\u001b[43maccept_sparse\u001b[49m\u001b[38;5;241;43m=\u001b[39;49m\u001b[43m[\u001b[49m\u001b[38;5;124;43m\"\u001b[39;49m\u001b[38;5;124;43mcsr\u001b[39;49m\u001b[38;5;124;43m\"\u001b[39;49m\u001b[43m,\u001b[49m\u001b[43m \u001b[49m\u001b[38;5;124;43m\"\u001b[39;49m\u001b[38;5;124;43mcsc\u001b[39;49m\u001b[38;5;124;43m\"\u001b[39;49m\u001b[43m,\u001b[49m\u001b[43m \u001b[49m\u001b[38;5;124;43m\"\u001b[39;49m\u001b[38;5;124;43mcoo\u001b[39;49m\u001b[38;5;124;43m\"\u001b[39;49m\u001b[43m]\u001b[49m\u001b[43m,\u001b[49m\u001b[43m \u001b[49m\u001b[43mreset\u001b[49m\u001b[38;5;241;43m=\u001b[39;49m\u001b[38;5;28;43;01mFalse\u001b[39;49;00m\u001b[43m)\u001b[49m\n\u001b[1;32m    370\u001b[0m     \u001b[38;5;28;01mreturn\u001b[39;00m safe_sparse_dot(X, \u001b[38;5;28mself\u001b[39m\u001b[38;5;241m.\u001b[39mcoef_\u001b[38;5;241m.\u001b[39mT, dense_output\u001b[38;5;241m=\u001b[39m\u001b[38;5;28;01mTrue\u001b[39;00m) \u001b[38;5;241m+\u001b[39m \u001b[38;5;28mself\u001b[39m\u001b[38;5;241m.\u001b[39mintercept_\n",
      "File \u001b[0;32m~/opt/anaconda3/lib/python3.9/site-packages/sklearn/base.py:626\u001b[0m, in \u001b[0;36mBaseEstimator._validate_data\u001b[0;34m(self, X, y, reset, validate_separately, cast_to_ndarray, **check_params)\u001b[0m\n\u001b[1;32m    623\u001b[0m     out \u001b[38;5;241m=\u001b[39m X, y\n\u001b[1;32m    625\u001b[0m \u001b[38;5;28;01mif\u001b[39;00m \u001b[38;5;129;01mnot\u001b[39;00m no_val_X \u001b[38;5;129;01mand\u001b[39;00m check_params\u001b[38;5;241m.\u001b[39mget(\u001b[38;5;124m\"\u001b[39m\u001b[38;5;124mensure_2d\u001b[39m\u001b[38;5;124m\"\u001b[39m, \u001b[38;5;28;01mTrue\u001b[39;00m):\n\u001b[0;32m--> 626\u001b[0m     \u001b[38;5;28;43mself\u001b[39;49m\u001b[38;5;241;43m.\u001b[39;49m\u001b[43m_check_n_features\u001b[49m\u001b[43m(\u001b[49m\u001b[43mX\u001b[49m\u001b[43m,\u001b[49m\u001b[43m \u001b[49m\u001b[43mreset\u001b[49m\u001b[38;5;241;43m=\u001b[39;49m\u001b[43mreset\u001b[49m\u001b[43m)\u001b[49m\n\u001b[1;32m    628\u001b[0m \u001b[38;5;28;01mreturn\u001b[39;00m out\n",
      "File \u001b[0;32m~/opt/anaconda3/lib/python3.9/site-packages/sklearn/base.py:415\u001b[0m, in \u001b[0;36mBaseEstimator._check_n_features\u001b[0;34m(self, X, reset)\u001b[0m\n\u001b[1;32m    412\u001b[0m     \u001b[38;5;28;01mreturn\u001b[39;00m\n\u001b[1;32m    414\u001b[0m \u001b[38;5;28;01mif\u001b[39;00m n_features \u001b[38;5;241m!=\u001b[39m \u001b[38;5;28mself\u001b[39m\u001b[38;5;241m.\u001b[39mn_features_in_:\n\u001b[0;32m--> 415\u001b[0m     \u001b[38;5;28;01mraise\u001b[39;00m \u001b[38;5;167;01mValueError\u001b[39;00m(\n\u001b[1;32m    416\u001b[0m         \u001b[38;5;124mf\u001b[39m\u001b[38;5;124m\"\u001b[39m\u001b[38;5;124mX has \u001b[39m\u001b[38;5;132;01m{\u001b[39;00mn_features\u001b[38;5;132;01m}\u001b[39;00m\u001b[38;5;124m features, but \u001b[39m\u001b[38;5;132;01m{\u001b[39;00m\u001b[38;5;28mself\u001b[39m\u001b[38;5;241m.\u001b[39m\u001b[38;5;18m__class__\u001b[39m\u001b[38;5;241m.\u001b[39m\u001b[38;5;18m__name__\u001b[39m\u001b[38;5;132;01m}\u001b[39;00m\u001b[38;5;124m \u001b[39m\u001b[38;5;124m\"\u001b[39m\n\u001b[1;32m    417\u001b[0m         \u001b[38;5;124mf\u001b[39m\u001b[38;5;124m\"\u001b[39m\u001b[38;5;124mis expecting \u001b[39m\u001b[38;5;132;01m{\u001b[39;00m\u001b[38;5;28mself\u001b[39m\u001b[38;5;241m.\u001b[39mn_features_in_\u001b[38;5;132;01m}\u001b[39;00m\u001b[38;5;124m features as input.\u001b[39m\u001b[38;5;124m\"\u001b[39m\n\u001b[1;32m    418\u001b[0m     )\n",
      "\u001b[0;31mValueError\u001b[0m: X has 3 features, but LinearRegression is expecting 6 features as input."
     ]
    }
   ],
   "source": [
    "low = X.min().min()\n",
    "high = low = X.max().max()\n",
    "N = len(df)\n",
    "N_plot = 50\n",
    "x_plot = np.linspace(start=low, stop=high, num=N_plot)\n",
    "\n",
    "for D in range(N):\n",
    "    polynomial = PolynomialFeatures(degree=D)\n",
    "    X = polynomial.fit_transform(X)\n",
    "    X_plot = polynomial.fit_transform(x_plot.reshape(N_plot, 1))\n",
    "\n",
    "    X_train, X_test, y_train, y_test = train_test_split(\n",
    "        X, y, test_size=0.5, random_state=0)\n",
    "\n",
    "    models = [linear_model.LinearRegression(),\n",
    "              linear_model.Lasso(max_iter=2000),\n",
    "              linear_model.Ridge()]\n",
    "\n",
    "    df_results = pd.DataFrame(columns=['model', 'MSE_train', 'MSE_test', '.intercept_', '.coef_'])\n",
    "    for model in models:\n",
    "        model.fit(X_train, y_train)\n",
    "        MSE_train = np.mean((y_train - model.predict(X_train))**2)\n",
    "        MSE_test = np.mean((y_test - model.predict(X_test))**2)\n",
    "        new_row = pd.DataFrame({'model': [str(model)], 'MSE_train': [MSE_train],\n",
    "                                 'MSE_test': [MSE_test], '.intercept_': [model.intercept_],\n",
    "                                 '.coef_': [np.round(model.coef_[1:], 2)]})\n",
    "        df_results = pd.concat([df_results, new_row])\n",
    "\n",
    "    pd.set_option('display.precision', 2)\n",
    "    pd.set_option('display.max_colwidth', 100)\n",
    "    print(f'D={D}:\\n{df_results}')\n",
    "\n",
    "    # make plot\n",
    "    model_colors = ['black', 'lime', 'red']\n",
    "    model_linestyles = ['solid', 'dashed', 'dashdot']\n",
    "    for i in range(len(models)):\n",
    "        model = models[i]\n",
    "        y_plot = model.predict(X_plot)\n",
    "        plt.plot(x_plot, y_plot, linestyle=model_linestyles[i], color=model_colors[i], label=str(model))\n",
    "\n",
    "    plt.plot(X[y_train.index], y_train, linestyle='None', marker='.', color='black', label='train')\n",
    "    plt.plot(x_plot, x_plot**2, linestyle='dotted', color='gray', label='(unknown truth)')\n",
    "    plt.plot(X[y_test.index], y_test, linestyle='None', marker='.', color='aqua', label='test')\n",
    "    plt.xlim(low, high)  # Adjust the x-axis limits based on your data range\n",
    "    plt.ylim(np.min(y), np.max(y))  # Adjust the y-axis limits based on your data range\n",
    "    plt.legend()\n",
    "    plt.show(block=False)\n"
   ]
  },
  {
   "cell_type": "code",
   "execution_count": null,
   "id": "e9790c55",
   "metadata": {},
   "outputs": [],
   "source": []
  }
 ],
 "metadata": {
  "kernelspec": {
   "display_name": "Python 3 (ipykernel)",
   "language": "python",
   "name": "python3"
  },
  "language_info": {
   "codemirror_mode": {
    "name": "ipython",
    "version": 3
   },
   "file_extension": ".py",
   "mimetype": "text/x-python",
   "name": "python",
   "nbconvert_exporter": "python",
   "pygments_lexer": "ipython3",
   "version": "3.9.12"
  }
 },
 "nbformat": 4,
 "nbformat_minor": 5
}
